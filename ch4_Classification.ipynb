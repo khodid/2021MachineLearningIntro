{
  "nbformat": 4,
  "nbformat_minor": 0,
  "metadata": {
    "colab": {
      "name": "ch4_Classification.ipynb",
      "provenance": [],
      "collapsed_sections": [],
      "authorship_tag": "ABX9TyOuweQX9KFgOTwWJVYfwYA1",
      "include_colab_link": true
    },
    "kernelspec": {
      "name": "python3",
      "display_name": "Python 3"
    },
    "language_info": {
      "name": "python"
    }
  },
  "cells": [
    {
      "cell_type": "markdown",
      "metadata": {
        "id": "view-in-github",
        "colab_type": "text"
      },
      "source": [
        "<a href=\"https://colab.research.google.com/github/khodid/2021MachineLearningIntro/blob/main/ch4_Classification.ipynb\" target=\"_parent\"><img src=\"https://colab.research.google.com/assets/colab-badge.svg\" alt=\"Open In Colab\"/></a>"
      ]
    },
    {
      "cell_type": "markdown",
      "metadata": {
        "id": "sDLnQYddAXRn"
      },
      "source": [
        "# CHAPTER 4. 분류 실습\n",
        "- p 183 ~ p 289"
      ]
    },
    {
      "cell_type": "markdown",
      "metadata": {
        "id": "JYttpifIAtca"
      },
      "source": [
        "분류의 대표적 알고리즘\n",
        "- 나이브 베이즈\n",
        "- 로지스틱 회귀\n",
        "- 결정 트리\n",
        "- SVM\n",
        "- KNN 알고리즘\n",
        "- 뉴럴 네트워크\n",
        "- 앙상블\n",
        "\n",
        "이번 장에선 앙상블의 개요와 랜덤포래스트, 그래디언트 부스팅(XGBoost, LightBGM), 스태킹을 다룰 예정.\n",
        "\n",
        "딥러닝이 이미지 영상 음성 자연어 등의 영역에서 머신러닝계를 선도하고 있으나 정형 데이터의 예측 분석은 앙상블이 더 애용되고 있음."
      ]
    },
    {
      "cell_type": "markdown",
      "metadata": {
        "id": "Cxg4q3C3BJkf"
      },
      "source": [
        "## 앙상블이란\n",
        "- 서로 다른, 또는 같은 알고리즘을 결합하는 것\n",
        "- 단순 결합, 배깅, 부스팅이 있다.\n",
        " - 보팅 : 서로 다른 알고리즘간의 결합\n",
        " - 배깅: 같은 알고리즘 기반으로 데이터 샘플링을 다르게 함. 예로는 랜덤 포레스트 -- 수행시간이 빠르고 유연성 있음\n",
        " - 부스팅: 최근 앙상블 기법에서 계속 발전되는 분야.그레이디언트 부스팅, XgBoost, LightBGM\n"
      ]
    },
    {
      "cell_type": "markdown",
      "metadata": {
        "id": "KCgfInqhB-5O"
      },
      "source": [
        "## 결정 트리\n",
        "\n",
        "- 유연하고 쉬운 알고리즘. 전처리의 영향을 덜 받음.\n",
        "- 예측 성능을 향상시키는 게 까다롭고 오버피팅 위험이 큼. \n",
        "\n",
        "앙상블은 예측 성능이 떨어지는 학습 알고리즘을 결합하는데, 결정트리는 이 것에 좋은 재료로 사용된다.\n",
        "\n",
        "### 파라미터\n",
        "과적합 되기 쉬운 알고리즘이라 파라미터들이 죄다 과적합을 막기 위한 파라미터임.\n",
        "- min_sample_split : 노드를 분할하기 위한 최소한의 샘플 데이터수. 작게 설정하면 분할을 더 해서 과적합됨\n",
        "- min_samples_leaf : leaf가 되기 위한 최소한의 샘플 데이터수. 비대칭 데이터를 다룰 땐 작게 설정해야 한다.\n",
        "- max_features : 분할에 쓰이는 최대 피쳐 수. 숫자를 넣을 수도 있고 퍼센트로 넣을 수 도 있고 'sqrt', 'auto', 'log', 'None' 과 같이 설정을 넣을 수 있음. 디폴트는 None(전체 피처 사용)\n",
        "- max_depth : 트리의 최대 깊이\n",
        "- max_leaf_nodes : leaf의 최대 개수\n",
        "\n"
      ]
    },
    {
      "cell_type": "code",
      "metadata": {
        "id": "cYW-TuEfAVoI"
      },
      "source": [
        "from sklearn.tree import DecisionTreeClassifier\n",
        "from sklearn.datasets import load_iris\n",
        "from sklearn.model_selection import train_test_split\n",
        "import warnings\n",
        "warnings.filterwarnings('ignore') # 버전 업 관련 경고 메시지 무시하도록 함"
      ],
      "execution_count": null,
      "outputs": []
    },
    {
      "cell_type": "code",
      "metadata": {
        "id": "dp89f-1pD-Ew"
      },
      "source": [
        "dt_clf = DecisionTreeClassifier(random_state=358)\n",
        "\n",
        "iris_data = load_iris()\n",
        "X_train, X_test, y_train, y_test = train_test_split(iris_data.data, iris_data.target, test_size = 0.2, random_state = 35)"
      ],
      "execution_count": null,
      "outputs": []
    },
    {
      "cell_type": "code",
      "metadata": {
        "colab": {
          "base_uri": "https://localhost:8080/"
        },
        "id": "jnAyw6x_Iodj",
        "outputId": "6aa62898-24a7-4c4f-d777-2317267f03d3"
      },
      "source": [
        "iris_data.feature_names"
      ],
      "execution_count": null,
      "outputs": [
        {
          "output_type": "execute_result",
          "data": {
            "text/plain": [
              "['sepal length (cm)',\n",
              " 'sepal width (cm)',\n",
              " 'petal length (cm)',\n",
              " 'petal width (cm)']"
            ]
          },
          "metadata": {
            "tags": []
          },
          "execution_count": 22
        }
      ]
    },
    {
      "cell_type": "code",
      "metadata": {
        "colab": {
          "base_uri": "https://localhost:8080/"
        },
        "id": "B6M4YUFkEY0m",
        "outputId": "faf98aa7-7e94-4e0c-843f-c7e1ebd61704"
      },
      "source": [
        "dt_clf.fit(X_train, y_train)"
      ],
      "execution_count": null,
      "outputs": [
        {
          "output_type": "execute_result",
          "data": {
            "text/plain": [
              "DecisionTreeClassifier(ccp_alpha=0.0, class_weight=None, criterion='gini',\n",
              "                       max_depth=None, max_features=None, max_leaf_nodes=None,\n",
              "                       min_impurity_decrease=0.0, min_impurity_split=None,\n",
              "                       min_samples_leaf=1, min_samples_split=2,\n",
              "                       min_weight_fraction_leaf=0.0, presort='deprecated',\n",
              "                       random_state=358, splitter='best')"
            ]
          },
          "metadata": {
            "tags": []
          },
          "execution_count": 3
        }
      ]
    },
    {
      "cell_type": "code",
      "metadata": {
        "id": "WONM3R84EcRI"
      },
      "source": [
        "from sklearn.tree import export_graphviz\n",
        "export_graphviz(dt_clf, out_file = \"tree.dot\", class_names = iris_data.target_names, feature_names = iris_data.feature_names, impurity = True, filled = True)\n",
        "# https://scikit-learn.org/stable/modules/generated/sklearn.tree.export_graphviz.html\n",
        "# impurity : 불순도. 서로 다른 클래스의 데이터가 한 범주 안에 섞어있는 정도\n",
        "# filled : True로 할 시 해당 노드에 들어간 다수 클래스가 구분되도록 색칠해줌"
      ],
      "execution_count": null,
      "outputs": []
    },
    {
      "cell_type": "code",
      "metadata": {
        "colab": {
          "base_uri": "https://localhost:8080/",
          "height": 915
        },
        "id": "MXonX6KMFTzH",
        "outputId": "b6a5d271-0596-40e0-fa66-3d3adc3f5114"
      },
      "source": [
        "import graphviz\n",
        "with open(\"tree.dot\") as f:\n",
        "    dot_graph = f.read()\n",
        "graphviz.Source(dot_graph)"
      ],
      "execution_count": null,
      "outputs": [
        {
          "output_type": "execute_result",
          "data": {
            "text/plain": [
              "<graphviz.files.Source at 0x7fe030f5d350>"
            ],
            "image/svg+xml": "<?xml version=\"1.0\" encoding=\"UTF-8\" standalone=\"no\"?>\n<!DOCTYPE svg PUBLIC \"-//W3C//DTD SVG 1.1//EN\"\n \"http://www.w3.org/Graphics/SVG/1.1/DTD/svg11.dtd\">\n<!-- Generated by graphviz version 2.40.1 (20161225.0304)\n -->\n<!-- Title: Tree Pages: 1 -->\n<svg width=\"857pt\" height=\"671pt\"\n viewBox=\"0.00 0.00 857.00 671.00\" xmlns=\"http://www.w3.org/2000/svg\" xmlns:xlink=\"http://www.w3.org/1999/xlink\">\n<g id=\"graph0\" class=\"graph\" transform=\"scale(1 1) rotate(0) translate(4 667)\">\n<title>Tree</title>\n<polygon fill=\"#ffffff\" stroke=\"transparent\" points=\"-4,4 -4,-667 853,-667 853,4 -4,4\"/>\n<!-- 0 -->\n<g id=\"node1\" class=\"node\">\n<title>0</title>\n<polygon fill=\"#fdfdff\" stroke=\"#000000\" points=\"523.5,-663 359.5,-663 359.5,-580 523.5,-580 523.5,-663\"/>\n<text text-anchor=\"middle\" x=\"441.5\" y=\"-647.8\" font-family=\"Times,serif\" font-size=\"14.00\" fill=\"#000000\">petal length (cm) &lt;= 2.45</text>\n<text text-anchor=\"middle\" x=\"441.5\" y=\"-632.8\" font-family=\"Times,serif\" font-size=\"14.00\" fill=\"#000000\">gini = 0.667</text>\n<text text-anchor=\"middle\" x=\"441.5\" y=\"-617.8\" font-family=\"Times,serif\" font-size=\"14.00\" fill=\"#000000\">samples = 120</text>\n<text text-anchor=\"middle\" x=\"441.5\" y=\"-602.8\" font-family=\"Times,serif\" font-size=\"14.00\" fill=\"#000000\">value = [39, 40, 41]</text>\n<text text-anchor=\"middle\" x=\"441.5\" y=\"-587.8\" font-family=\"Times,serif\" font-size=\"14.00\" fill=\"#000000\">class = virginica</text>\n</g>\n<!-- 1 -->\n<g id=\"node2\" class=\"node\">\n<title>1</title>\n<polygon fill=\"#e58139\" stroke=\"#000000\" points=\"422,-536.5 305,-536.5 305,-468.5 422,-468.5 422,-536.5\"/>\n<text text-anchor=\"middle\" x=\"363.5\" y=\"-521.3\" font-family=\"Times,serif\" font-size=\"14.00\" fill=\"#000000\">gini = 0.0</text>\n<text text-anchor=\"middle\" x=\"363.5\" y=\"-506.3\" font-family=\"Times,serif\" font-size=\"14.00\" fill=\"#000000\">samples = 39</text>\n<text text-anchor=\"middle\" x=\"363.5\" y=\"-491.3\" font-family=\"Times,serif\" font-size=\"14.00\" fill=\"#000000\">value = [39, 0, 0]</text>\n<text text-anchor=\"middle\" x=\"363.5\" y=\"-476.3\" font-family=\"Times,serif\" font-size=\"14.00\" fill=\"#000000\">class = setosa</text>\n</g>\n<!-- 0&#45;&gt;1 -->\n<g id=\"edge1\" class=\"edge\">\n<title>0&#45;&gt;1</title>\n<path fill=\"none\" stroke=\"#000000\" d=\"M414.2194,-579.8796C406.8677,-568.6636 398.9036,-556.5131 391.5126,-545.2372\"/>\n<polygon fill=\"#000000\" stroke=\"#000000\" points=\"394.4014,-543.2598 385.9921,-536.8149 388.5469,-547.0972 394.4014,-543.2598\"/>\n<text text-anchor=\"middle\" x=\"380.8982\" y=\"-557.5905\" font-family=\"Times,serif\" font-size=\"14.00\" fill=\"#000000\">True</text>\n</g>\n<!-- 2 -->\n<g id=\"node3\" class=\"node\">\n<title>2</title>\n<polygon fill=\"#fcfafe\" stroke=\"#000000\" points=\"601,-544 440,-544 440,-461 601,-461 601,-544\"/>\n<text text-anchor=\"middle\" x=\"520.5\" y=\"-528.8\" font-family=\"Times,serif\" font-size=\"14.00\" fill=\"#000000\">petal width (cm) &lt;= 1.75</text>\n<text text-anchor=\"middle\" x=\"520.5\" y=\"-513.8\" font-family=\"Times,serif\" font-size=\"14.00\" fill=\"#000000\">gini = 0.5</text>\n<text text-anchor=\"middle\" x=\"520.5\" y=\"-498.8\" font-family=\"Times,serif\" font-size=\"14.00\" fill=\"#000000\">samples = 81</text>\n<text text-anchor=\"middle\" x=\"520.5\" y=\"-483.8\" font-family=\"Times,serif\" font-size=\"14.00\" fill=\"#000000\">value = [0, 40, 41]</text>\n<text text-anchor=\"middle\" x=\"520.5\" y=\"-468.8\" font-family=\"Times,serif\" font-size=\"14.00\" fill=\"#000000\">class = virginica</text>\n</g>\n<!-- 0&#45;&gt;2 -->\n<g id=\"edge2\" class=\"edge\">\n<title>0&#45;&gt;2</title>\n<path fill=\"none\" stroke=\"#000000\" d=\"M469.1304,-579.8796C474.93,-571.1434 481.1059,-561.8404 487.0908,-552.8253\"/>\n<polygon fill=\"#000000\" stroke=\"#000000\" points=\"490.1368,-554.5652 492.7517,-544.2981 484.3049,-550.6935 490.1368,-554.5652\"/>\n<text text-anchor=\"middle\" x=\"497.7022\" y=\"-565.103\" font-family=\"Times,serif\" font-size=\"14.00\" fill=\"#000000\">False</text>\n</g>\n<!-- 3 -->\n<g id=\"node4\" class=\"node\">\n<title>3</title>\n<polygon fill=\"#52e891\" stroke=\"#000000\" points=\"491.5,-425 327.5,-425 327.5,-342 491.5,-342 491.5,-425\"/>\n<text text-anchor=\"middle\" x=\"409.5\" y=\"-409.8\" font-family=\"Times,serif\" font-size=\"14.00\" fill=\"#000000\">petal length (cm) &lt;= 4.95</text>\n<text text-anchor=\"middle\" x=\"409.5\" y=\"-394.8\" font-family=\"Times,serif\" font-size=\"14.00\" fill=\"#000000\">gini = 0.201</text>\n<text text-anchor=\"middle\" x=\"409.5\" y=\"-379.8\" font-family=\"Times,serif\" font-size=\"14.00\" fill=\"#000000\">samples = 44</text>\n<text text-anchor=\"middle\" x=\"409.5\" y=\"-364.8\" font-family=\"Times,serif\" font-size=\"14.00\" fill=\"#000000\">value = [0, 39, 5]</text>\n<text text-anchor=\"middle\" x=\"409.5\" y=\"-349.8\" font-family=\"Times,serif\" font-size=\"14.00\" fill=\"#000000\">class = versicolor</text>\n</g>\n<!-- 2&#45;&gt;3 -->\n<g id=\"edge3\" class=\"edge\">\n<title>2&#45;&gt;3</title>\n<path fill=\"none\" stroke=\"#000000\" d=\"M481.6776,-460.8796C473.1927,-451.7832 464.1346,-442.0722 455.4032,-432.7116\"/>\n<polygon fill=\"#000000\" stroke=\"#000000\" points=\"457.8686,-430.2233 448.4881,-425.2981 452.7497,-434.9981 457.8686,-430.2233\"/>\n</g>\n<!-- 12 -->\n<g id=\"node13\" class=\"node\">\n<title>12</title>\n<polygon fill=\"#843ee6\" stroke=\"#000000\" points=\"713.5,-425 549.5,-425 549.5,-342 713.5,-342 713.5,-425\"/>\n<text text-anchor=\"middle\" x=\"631.5\" y=\"-409.8\" font-family=\"Times,serif\" font-size=\"14.00\" fill=\"#000000\">petal length (cm) &lt;= 4.85</text>\n<text text-anchor=\"middle\" x=\"631.5\" y=\"-394.8\" font-family=\"Times,serif\" font-size=\"14.00\" fill=\"#000000\">gini = 0.053</text>\n<text text-anchor=\"middle\" x=\"631.5\" y=\"-379.8\" font-family=\"Times,serif\" font-size=\"14.00\" fill=\"#000000\">samples = 37</text>\n<text text-anchor=\"middle\" x=\"631.5\" y=\"-364.8\" font-family=\"Times,serif\" font-size=\"14.00\" fill=\"#000000\">value = [0, 1, 36]</text>\n<text text-anchor=\"middle\" x=\"631.5\" y=\"-349.8\" font-family=\"Times,serif\" font-size=\"14.00\" fill=\"#000000\">class = virginica</text>\n</g>\n<!-- 2&#45;&gt;12 -->\n<g id=\"edge12\" class=\"edge\">\n<title>2&#45;&gt;12</title>\n<path fill=\"none\" stroke=\"#000000\" d=\"M559.3224,-460.8796C567.8073,-451.7832 576.8654,-442.0722 585.5968,-432.7116\"/>\n<polygon fill=\"#000000\" stroke=\"#000000\" points=\"588.2503,-434.9981 592.5119,-425.2981 583.1314,-430.2233 588.2503,-434.9981\"/>\n</g>\n<!-- 4 -->\n<g id=\"node5\" class=\"node\">\n<title>4</title>\n<polygon fill=\"#3ee684\" stroke=\"#000000\" points=\"271,-306 110,-306 110,-223 271,-223 271,-306\"/>\n<text text-anchor=\"middle\" x=\"190.5\" y=\"-290.8\" font-family=\"Times,serif\" font-size=\"14.00\" fill=\"#000000\">petal width (cm) &lt;= 1.65</text>\n<text text-anchor=\"middle\" x=\"190.5\" y=\"-275.8\" font-family=\"Times,serif\" font-size=\"14.00\" fill=\"#000000\">gini = 0.051</text>\n<text text-anchor=\"middle\" x=\"190.5\" y=\"-260.8\" font-family=\"Times,serif\" font-size=\"14.00\" fill=\"#000000\">samples = 38</text>\n<text text-anchor=\"middle\" x=\"190.5\" y=\"-245.8\" font-family=\"Times,serif\" font-size=\"14.00\" fill=\"#000000\">value = [0, 37, 1]</text>\n<text text-anchor=\"middle\" x=\"190.5\" y=\"-230.8\" font-family=\"Times,serif\" font-size=\"14.00\" fill=\"#000000\">class = versicolor</text>\n</g>\n<!-- 3&#45;&gt;4 -->\n<g id=\"edge4\" class=\"edge\">\n<title>3&#45;&gt;4</title>\n<path fill=\"none\" stroke=\"#000000\" d=\"M332.9044,-341.8796C314.483,-331.8697 294.6918,-321.1156 275.8974,-310.9031\"/>\n<polygon fill=\"#000000\" stroke=\"#000000\" points=\"277.51,-307.7961 267.0523,-306.0969 274.1679,-313.9468 277.51,-307.7961\"/>\n</g>\n<!-- 7 -->\n<g id=\"node8\" class=\"node\">\n<title>7</title>\n<polygon fill=\"#c09cf2\" stroke=\"#000000\" points=\"490,-306 329,-306 329,-223 490,-223 490,-306\"/>\n<text text-anchor=\"middle\" x=\"409.5\" y=\"-290.8\" font-family=\"Times,serif\" font-size=\"14.00\" fill=\"#000000\">petal width (cm) &lt;= 1.55</text>\n<text text-anchor=\"middle\" x=\"409.5\" y=\"-275.8\" font-family=\"Times,serif\" font-size=\"14.00\" fill=\"#000000\">gini = 0.444</text>\n<text text-anchor=\"middle\" x=\"409.5\" y=\"-260.8\" font-family=\"Times,serif\" font-size=\"14.00\" fill=\"#000000\">samples = 6</text>\n<text text-anchor=\"middle\" x=\"409.5\" y=\"-245.8\" font-family=\"Times,serif\" font-size=\"14.00\" fill=\"#000000\">value = [0, 2, 4]</text>\n<text text-anchor=\"middle\" x=\"409.5\" y=\"-230.8\" font-family=\"Times,serif\" font-size=\"14.00\" fill=\"#000000\">class = virginica</text>\n</g>\n<!-- 3&#45;&gt;7 -->\n<g id=\"edge7\" class=\"edge\">\n<title>3&#45;&gt;7</title>\n<path fill=\"none\" stroke=\"#000000\" d=\"M409.5,-341.8796C409.5,-333.6838 409.5,-324.9891 409.5,-316.5013\"/>\n<polygon fill=\"#000000\" stroke=\"#000000\" points=\"413.0001,-316.298 409.5,-306.2981 406.0001,-316.2981 413.0001,-316.298\"/>\n</g>\n<!-- 5 -->\n<g id=\"node6\" class=\"node\">\n<title>5</title>\n<polygon fill=\"#39e581\" stroke=\"#000000\" points=\"117,-179.5 0,-179.5 0,-111.5 117,-111.5 117,-179.5\"/>\n<text text-anchor=\"middle\" x=\"58.5\" y=\"-164.3\" font-family=\"Times,serif\" font-size=\"14.00\" fill=\"#000000\">gini = 0.0</text>\n<text text-anchor=\"middle\" x=\"58.5\" y=\"-149.3\" font-family=\"Times,serif\" font-size=\"14.00\" fill=\"#000000\">samples = 37</text>\n<text text-anchor=\"middle\" x=\"58.5\" y=\"-134.3\" font-family=\"Times,serif\" font-size=\"14.00\" fill=\"#000000\">value = [0, 37, 0]</text>\n<text text-anchor=\"middle\" x=\"58.5\" y=\"-119.3\" font-family=\"Times,serif\" font-size=\"14.00\" fill=\"#000000\">class = versicolor</text>\n</g>\n<!-- 4&#45;&gt;5 -->\n<g id=\"edge5\" class=\"edge\">\n<title>4&#45;&gt;5</title>\n<path fill=\"none\" stroke=\"#000000\" d=\"M144.3328,-222.8796C131.2817,-211.1138 117.0899,-198.3197 104.0739,-186.5855\"/>\n<polygon fill=\"#000000\" stroke=\"#000000\" points=\"106.3346,-183.9113 96.5636,-179.8149 101.6474,-189.1104 106.3346,-183.9113\"/>\n</g>\n<!-- 6 -->\n<g id=\"node7\" class=\"node\">\n<title>6</title>\n<polygon fill=\"#8139e5\" stroke=\"#000000\" points=\"245.5,-179.5 135.5,-179.5 135.5,-111.5 245.5,-111.5 245.5,-179.5\"/>\n<text text-anchor=\"middle\" x=\"190.5\" y=\"-164.3\" font-family=\"Times,serif\" font-size=\"14.00\" fill=\"#000000\">gini = 0.0</text>\n<text text-anchor=\"middle\" x=\"190.5\" y=\"-149.3\" font-family=\"Times,serif\" font-size=\"14.00\" fill=\"#000000\">samples = 1</text>\n<text text-anchor=\"middle\" x=\"190.5\" y=\"-134.3\" font-family=\"Times,serif\" font-size=\"14.00\" fill=\"#000000\">value = [0, 0, 1]</text>\n<text text-anchor=\"middle\" x=\"190.5\" y=\"-119.3\" font-family=\"Times,serif\" font-size=\"14.00\" fill=\"#000000\">class = virginica</text>\n</g>\n<!-- 4&#45;&gt;6 -->\n<g id=\"edge6\" class=\"edge\">\n<title>4&#45;&gt;6</title>\n<path fill=\"none\" stroke=\"#000000\" d=\"M190.5,-222.8796C190.5,-212.2134 190.5,-200.7021 190.5,-189.9015\"/>\n<polygon fill=\"#000000\" stroke=\"#000000\" points=\"194.0001,-189.8149 190.5,-179.8149 187.0001,-189.815 194.0001,-189.8149\"/>\n</g>\n<!-- 8 -->\n<g id=\"node9\" class=\"node\">\n<title>8</title>\n<polygon fill=\"#8139e5\" stroke=\"#000000\" points=\"373.5,-179.5 263.5,-179.5 263.5,-111.5 373.5,-111.5 373.5,-179.5\"/>\n<text text-anchor=\"middle\" x=\"318.5\" y=\"-164.3\" font-family=\"Times,serif\" font-size=\"14.00\" fill=\"#000000\">gini = 0.0</text>\n<text text-anchor=\"middle\" x=\"318.5\" y=\"-149.3\" font-family=\"Times,serif\" font-size=\"14.00\" fill=\"#000000\">samples = 3</text>\n<text text-anchor=\"middle\" x=\"318.5\" y=\"-134.3\" font-family=\"Times,serif\" font-size=\"14.00\" fill=\"#000000\">value = [0, 0, 3]</text>\n<text text-anchor=\"middle\" x=\"318.5\" y=\"-119.3\" font-family=\"Times,serif\" font-size=\"14.00\" fill=\"#000000\">class = virginica</text>\n</g>\n<!-- 7&#45;&gt;8 -->\n<g id=\"edge8\" class=\"edge\">\n<title>7&#45;&gt;8</title>\n<path fill=\"none\" stroke=\"#000000\" d=\"M377.6726,-222.8796C369.0116,-211.5536 359.6219,-199.2748 350.928,-187.9058\"/>\n<polygon fill=\"#000000\" stroke=\"#000000\" points=\"353.5956,-185.6324 344.7408,-179.8149 348.0351,-189.8846 353.5956,-185.6324\"/>\n</g>\n<!-- 9 -->\n<g id=\"node10\" class=\"node\">\n<title>9</title>\n<polygon fill=\"#9cf2c0\" stroke=\"#000000\" points=\"555.5,-187 391.5,-187 391.5,-104 555.5,-104 555.5,-187\"/>\n<text text-anchor=\"middle\" x=\"473.5\" y=\"-171.8\" font-family=\"Times,serif\" font-size=\"14.00\" fill=\"#000000\">petal length (cm) &lt;= 5.45</text>\n<text text-anchor=\"middle\" x=\"473.5\" y=\"-156.8\" font-family=\"Times,serif\" font-size=\"14.00\" fill=\"#000000\">gini = 0.444</text>\n<text text-anchor=\"middle\" x=\"473.5\" y=\"-141.8\" font-family=\"Times,serif\" font-size=\"14.00\" fill=\"#000000\">samples = 3</text>\n<text text-anchor=\"middle\" x=\"473.5\" y=\"-126.8\" font-family=\"Times,serif\" font-size=\"14.00\" fill=\"#000000\">value = [0, 2, 1]</text>\n<text text-anchor=\"middle\" x=\"473.5\" y=\"-111.8\" font-family=\"Times,serif\" font-size=\"14.00\" fill=\"#000000\">class = versicolor</text>\n</g>\n<!-- 7&#45;&gt;9 -->\n<g id=\"edge9\" class=\"edge\">\n<title>7&#45;&gt;9</title>\n<path fill=\"none\" stroke=\"#000000\" d=\"M431.8841,-222.8796C436.4856,-214.3236 441.3796,-205.2238 446.1342,-196.3833\"/>\n<polygon fill=\"#000000\" stroke=\"#000000\" points=\"449.3662,-197.763 451.0204,-187.2981 443.2012,-194.4473 449.3662,-197.763\"/>\n</g>\n<!-- 10 -->\n<g id=\"node11\" class=\"node\">\n<title>10</title>\n<polygon fill=\"#39e581\" stroke=\"#000000\" points=\"465,-68 350,-68 350,0 465,0 465,-68\"/>\n<text text-anchor=\"middle\" x=\"407.5\" y=\"-52.8\" font-family=\"Times,serif\" font-size=\"14.00\" fill=\"#000000\">gini = 0.0</text>\n<text text-anchor=\"middle\" x=\"407.5\" y=\"-37.8\" font-family=\"Times,serif\" font-size=\"14.00\" fill=\"#000000\">samples = 2</text>\n<text text-anchor=\"middle\" x=\"407.5\" y=\"-22.8\" font-family=\"Times,serif\" font-size=\"14.00\" fill=\"#000000\">value = [0, 2, 0]</text>\n<text text-anchor=\"middle\" x=\"407.5\" y=\"-7.8\" font-family=\"Times,serif\" font-size=\"14.00\" fill=\"#000000\">class = versicolor</text>\n</g>\n<!-- 9&#45;&gt;10 -->\n<g id=\"edge10\" class=\"edge\">\n<title>9&#45;&gt;10</title>\n<path fill=\"none\" stroke=\"#000000\" d=\"M448.924,-103.9815C443.7014,-95.1585 438.1771,-85.8258 432.9237,-76.9506\"/>\n<polygon fill=\"#000000\" stroke=\"#000000\" points=\"435.8874,-75.0863 427.7816,-68.2637 429.8636,-78.652 435.8874,-75.0863\"/>\n</g>\n<!-- 11 -->\n<g id=\"node12\" class=\"node\">\n<title>11</title>\n<polygon fill=\"#8139e5\" stroke=\"#000000\" points=\"593.5,-68 483.5,-68 483.5,0 593.5,0 593.5,-68\"/>\n<text text-anchor=\"middle\" x=\"538.5\" y=\"-52.8\" font-family=\"Times,serif\" font-size=\"14.00\" fill=\"#000000\">gini = 0.0</text>\n<text text-anchor=\"middle\" x=\"538.5\" y=\"-37.8\" font-family=\"Times,serif\" font-size=\"14.00\" fill=\"#000000\">samples = 1</text>\n<text text-anchor=\"middle\" x=\"538.5\" y=\"-22.8\" font-family=\"Times,serif\" font-size=\"14.00\" fill=\"#000000\">value = [0, 0, 1]</text>\n<text text-anchor=\"middle\" x=\"538.5\" y=\"-7.8\" font-family=\"Times,serif\" font-size=\"14.00\" fill=\"#000000\">class = virginica</text>\n</g>\n<!-- 9&#45;&gt;11 -->\n<g id=\"edge11\" class=\"edge\">\n<title>9&#45;&gt;11</title>\n<path fill=\"none\" stroke=\"#000000\" d=\"M497.7036,-103.9815C502.8471,-95.1585 508.2877,-85.8258 513.4616,-76.9506\"/>\n<polygon fill=\"#000000\" stroke=\"#000000\" points=\"516.513,-78.6656 518.5257,-68.2637 510.4656,-75.1402 516.513,-78.6656\"/>\n</g>\n<!-- 13 -->\n<g id=\"node14\" class=\"node\">\n<title>13</title>\n<polygon fill=\"#c09cf2\" stroke=\"#000000\" points=\"714,-306 549,-306 549,-223 714,-223 714,-306\"/>\n<text text-anchor=\"middle\" x=\"631.5\" y=\"-290.8\" font-family=\"Times,serif\" font-size=\"14.00\" fill=\"#000000\">sepal length (cm) &lt;= 5.95</text>\n<text text-anchor=\"middle\" x=\"631.5\" y=\"-275.8\" font-family=\"Times,serif\" font-size=\"14.00\" fill=\"#000000\">gini = 0.444</text>\n<text text-anchor=\"middle\" x=\"631.5\" y=\"-260.8\" font-family=\"Times,serif\" font-size=\"14.00\" fill=\"#000000\">samples = 3</text>\n<text text-anchor=\"middle\" x=\"631.5\" y=\"-245.8\" font-family=\"Times,serif\" font-size=\"14.00\" fill=\"#000000\">value = [0, 1, 2]</text>\n<text text-anchor=\"middle\" x=\"631.5\" y=\"-230.8\" font-family=\"Times,serif\" font-size=\"14.00\" fill=\"#000000\">class = virginica</text>\n</g>\n<!-- 12&#45;&gt;13 -->\n<g id=\"edge13\" class=\"edge\">\n<title>12&#45;&gt;13</title>\n<path fill=\"none\" stroke=\"#000000\" d=\"M631.5,-341.8796C631.5,-333.6838 631.5,-324.9891 631.5,-316.5013\"/>\n<polygon fill=\"#000000\" stroke=\"#000000\" points=\"635.0001,-316.298 631.5,-306.2981 628.0001,-316.2981 635.0001,-316.298\"/>\n</g>\n<!-- 16 -->\n<g id=\"node17\" class=\"node\">\n<title>16</title>\n<polygon fill=\"#8139e5\" stroke=\"#000000\" points=\"849,-298.5 732,-298.5 732,-230.5 849,-230.5 849,-298.5\"/>\n<text text-anchor=\"middle\" x=\"790.5\" y=\"-283.3\" font-family=\"Times,serif\" font-size=\"14.00\" fill=\"#000000\">gini = 0.0</text>\n<text text-anchor=\"middle\" x=\"790.5\" y=\"-268.3\" font-family=\"Times,serif\" font-size=\"14.00\" fill=\"#000000\">samples = 34</text>\n<text text-anchor=\"middle\" x=\"790.5\" y=\"-253.3\" font-family=\"Times,serif\" font-size=\"14.00\" fill=\"#000000\">value = [0, 0, 34]</text>\n<text text-anchor=\"middle\" x=\"790.5\" y=\"-238.3\" font-family=\"Times,serif\" font-size=\"14.00\" fill=\"#000000\">class = virginica</text>\n</g>\n<!-- 12&#45;&gt;16 -->\n<g id=\"edge16\" class=\"edge\">\n<title>12&#45;&gt;16</title>\n<path fill=\"none\" stroke=\"#000000\" d=\"M687.1105,-341.8796C703.2013,-329.8368 720.7315,-316.7167 736.7091,-304.7586\"/>\n<polygon fill=\"#000000\" stroke=\"#000000\" points=\"738.9982,-307.4171 744.907,-298.623 734.8038,-301.8129 738.9982,-307.4171\"/>\n</g>\n<!-- 14 -->\n<g id=\"node15\" class=\"node\">\n<title>14</title>\n<polygon fill=\"#39e581\" stroke=\"#000000\" points=\"689,-179.5 574,-179.5 574,-111.5 689,-111.5 689,-179.5\"/>\n<text text-anchor=\"middle\" x=\"631.5\" y=\"-164.3\" font-family=\"Times,serif\" font-size=\"14.00\" fill=\"#000000\">gini = 0.0</text>\n<text text-anchor=\"middle\" x=\"631.5\" y=\"-149.3\" font-family=\"Times,serif\" font-size=\"14.00\" fill=\"#000000\">samples = 1</text>\n<text text-anchor=\"middle\" x=\"631.5\" y=\"-134.3\" font-family=\"Times,serif\" font-size=\"14.00\" fill=\"#000000\">value = [0, 1, 0]</text>\n<text text-anchor=\"middle\" x=\"631.5\" y=\"-119.3\" font-family=\"Times,serif\" font-size=\"14.00\" fill=\"#000000\">class = versicolor</text>\n</g>\n<!-- 13&#45;&gt;14 -->\n<g id=\"edge14\" class=\"edge\">\n<title>13&#45;&gt;14</title>\n<path fill=\"none\" stroke=\"#000000\" d=\"M631.5,-222.8796C631.5,-212.2134 631.5,-200.7021 631.5,-189.9015\"/>\n<polygon fill=\"#000000\" stroke=\"#000000\" points=\"635.0001,-189.8149 631.5,-179.8149 628.0001,-189.815 635.0001,-189.8149\"/>\n</g>\n<!-- 15 -->\n<g id=\"node16\" class=\"node\">\n<title>15</title>\n<polygon fill=\"#8139e5\" stroke=\"#000000\" points=\"817.5,-179.5 707.5,-179.5 707.5,-111.5 817.5,-111.5 817.5,-179.5\"/>\n<text text-anchor=\"middle\" x=\"762.5\" y=\"-164.3\" font-family=\"Times,serif\" font-size=\"14.00\" fill=\"#000000\">gini = 0.0</text>\n<text text-anchor=\"middle\" x=\"762.5\" y=\"-149.3\" font-family=\"Times,serif\" font-size=\"14.00\" fill=\"#000000\">samples = 2</text>\n<text text-anchor=\"middle\" x=\"762.5\" y=\"-134.3\" font-family=\"Times,serif\" font-size=\"14.00\" fill=\"#000000\">value = [0, 0, 2]</text>\n<text text-anchor=\"middle\" x=\"762.5\" y=\"-119.3\" font-family=\"Times,serif\" font-size=\"14.00\" fill=\"#000000\">class = virginica</text>\n</g>\n<!-- 13&#45;&gt;15 -->\n<g id=\"edge15\" class=\"edge\">\n<title>13&#45;&gt;15</title>\n<path fill=\"none\" stroke=\"#000000\" d=\"M677.3174,-222.8796C690.2697,-211.1138 704.354,-198.3197 717.2714,-186.5855\"/>\n<polygon fill=\"#000000\" stroke=\"#000000\" points=\"719.6761,-189.1296 724.7247,-179.8149 714.9694,-183.9482 719.6761,-189.1296\"/>\n</g>\n</g>\n</svg>\n"
          },
          "metadata": {
            "tags": []
          },
          "execution_count": 5
        }
      ]
    },
    {
      "cell_type": "code",
      "metadata": {
        "colab": {
          "base_uri": "https://localhost:8080/"
        },
        "id": "ZY4HadGlFjfA",
        "outputId": "eaf58894-92e3-471a-9e17-c141f51602ab"
      },
      "source": [
        "from sklearn.metrics import accuracy_score\n",
        "pred = dt_clf.predict(X_test)\n",
        "accuracy_score(y_test, pred)\n"
      ],
      "execution_count": null,
      "outputs": [
        {
          "output_type": "execute_result",
          "data": {
            "text/plain": [
              "1.0"
            ]
          },
          "metadata": {
            "tags": []
          },
          "execution_count": 10
        }
      ]
    },
    {
      "cell_type": "code",
      "metadata": {
        "colab": {
          "base_uri": "https://localhost:8080/",
          "height": 597
        },
        "id": "O_KjPAPSGhe9",
        "outputId": "2ad1b055-959c-46de-9878-3eae51da1386"
      },
      "source": [
        "# 파라미터 조정을 통해 과적합 개선\n",
        "\n",
        "dt_clf_short = DecisionTreeClassifier(random_state=358, max_depth= 3, max_features=3, max_leaf_nodes=5)\n",
        "\n",
        "dt_clf_short.fit(X_train, y_train)\n",
        "export_graphviz(dt_clf, out_file = \"tree.dot\", class_names = iris_data.target_names, feature_names = iris_data.feature_names, impurity = True, filled = True)\n",
        "with open(\"tree.dot\") as f:\n",
        "    dot_graph = f.read()\n",
        "graphviz.Source(dot_graph)"
      ],
      "execution_count": null,
      "outputs": [
        {
          "output_type": "execute_result",
          "data": {
            "text/plain": [
              "<graphviz.files.Source at 0x7fdff82ef690>"
            ],
            "image/svg+xml": "<?xml version=\"1.0\" encoding=\"UTF-8\" standalone=\"no\"?>\n<!DOCTYPE svg PUBLIC \"-//W3C//DTD SVG 1.1//EN\"\n \"http://www.w3.org/Graphics/SVG/1.1/DTD/svg11.dtd\">\n<!-- Generated by graphviz version 2.40.1 (20161225.0304)\n -->\n<!-- Title: Tree Pages: 1 -->\n<svg width=\"544pt\" height=\"433pt\"\n viewBox=\"0.00 0.00 544.00 433.00\" xmlns=\"http://www.w3.org/2000/svg\" xmlns:xlink=\"http://www.w3.org/1999/xlink\">\n<g id=\"graph0\" class=\"graph\" transform=\"scale(1 1) rotate(0) translate(4 429)\">\n<title>Tree</title>\n<polygon fill=\"#ffffff\" stroke=\"transparent\" points=\"-4,4 -4,-429 540,-429 540,4 -4,4\"/>\n<!-- 0 -->\n<g id=\"node1\" class=\"node\">\n<title>0</title>\n<polygon fill=\"#fdfdff\" stroke=\"#000000\" points=\"270.5,-425 106.5,-425 106.5,-342 270.5,-342 270.5,-425\"/>\n<text text-anchor=\"middle\" x=\"188.5\" y=\"-409.8\" font-family=\"Times,serif\" font-size=\"14.00\" fill=\"#000000\">petal length (cm) &lt;= 2.45</text>\n<text text-anchor=\"middle\" x=\"188.5\" y=\"-394.8\" font-family=\"Times,serif\" font-size=\"14.00\" fill=\"#000000\">gini = 0.667</text>\n<text text-anchor=\"middle\" x=\"188.5\" y=\"-379.8\" font-family=\"Times,serif\" font-size=\"14.00\" fill=\"#000000\">samples = 120</text>\n<text text-anchor=\"middle\" x=\"188.5\" y=\"-364.8\" font-family=\"Times,serif\" font-size=\"14.00\" fill=\"#000000\">value = [39, 40, 41]</text>\n<text text-anchor=\"middle\" x=\"188.5\" y=\"-349.8\" font-family=\"Times,serif\" font-size=\"14.00\" fill=\"#000000\">class = virginica</text>\n</g>\n<!-- 1 -->\n<g id=\"node2\" class=\"node\">\n<title>1</title>\n<polygon fill=\"#e58139\" stroke=\"#000000\" points=\"169,-298.5 52,-298.5 52,-230.5 169,-230.5 169,-298.5\"/>\n<text text-anchor=\"middle\" x=\"110.5\" y=\"-283.3\" font-family=\"Times,serif\" font-size=\"14.00\" fill=\"#000000\">gini = 0.0</text>\n<text text-anchor=\"middle\" x=\"110.5\" y=\"-268.3\" font-family=\"Times,serif\" font-size=\"14.00\" fill=\"#000000\">samples = 39</text>\n<text text-anchor=\"middle\" x=\"110.5\" y=\"-253.3\" font-family=\"Times,serif\" font-size=\"14.00\" fill=\"#000000\">value = [39, 0, 0]</text>\n<text text-anchor=\"middle\" x=\"110.5\" y=\"-238.3\" font-family=\"Times,serif\" font-size=\"14.00\" fill=\"#000000\">class = setosa</text>\n</g>\n<!-- 0&#45;&gt;1 -->\n<g id=\"edge1\" class=\"edge\">\n<title>0&#45;&gt;1</title>\n<path fill=\"none\" stroke=\"#000000\" d=\"M161.2194,-341.8796C153.8677,-330.6636 145.9036,-318.5131 138.5126,-307.2372\"/>\n<polygon fill=\"#000000\" stroke=\"#000000\" points=\"141.4014,-305.2598 132.9921,-298.8149 135.5469,-309.0972 141.4014,-305.2598\"/>\n<text text-anchor=\"middle\" x=\"127.8982\" y=\"-319.5905\" font-family=\"Times,serif\" font-size=\"14.00\" fill=\"#000000\">True</text>\n</g>\n<!-- 2 -->\n<g id=\"node3\" class=\"node\">\n<title>2</title>\n<polygon fill=\"#fcfafe\" stroke=\"#000000\" points=\"348,-306 187,-306 187,-223 348,-223 348,-306\"/>\n<text text-anchor=\"middle\" x=\"267.5\" y=\"-290.8\" font-family=\"Times,serif\" font-size=\"14.00\" fill=\"#000000\">petal width (cm) &lt;= 1.75</text>\n<text text-anchor=\"middle\" x=\"267.5\" y=\"-275.8\" font-family=\"Times,serif\" font-size=\"14.00\" fill=\"#000000\">gini = 0.5</text>\n<text text-anchor=\"middle\" x=\"267.5\" y=\"-260.8\" font-family=\"Times,serif\" font-size=\"14.00\" fill=\"#000000\">samples = 81</text>\n<text text-anchor=\"middle\" x=\"267.5\" y=\"-245.8\" font-family=\"Times,serif\" font-size=\"14.00\" fill=\"#000000\">value = [0, 40, 41]</text>\n<text text-anchor=\"middle\" x=\"267.5\" y=\"-230.8\" font-family=\"Times,serif\" font-size=\"14.00\" fill=\"#000000\">class = virginica</text>\n</g>\n<!-- 0&#45;&gt;2 -->\n<g id=\"edge2\" class=\"edge\">\n<title>0&#45;&gt;2</title>\n<path fill=\"none\" stroke=\"#000000\" d=\"M216.1304,-341.8796C221.93,-333.1434 228.1059,-323.8404 234.0908,-314.8253\"/>\n<polygon fill=\"#000000\" stroke=\"#000000\" points=\"237.1368,-316.5652 239.7517,-306.2981 231.3049,-312.6935 237.1368,-316.5652\"/>\n<text text-anchor=\"middle\" x=\"244.7022\" y=\"-327.103\" font-family=\"Times,serif\" font-size=\"14.00\" fill=\"#000000\">False</text>\n</g>\n<!-- 3 -->\n<g id=\"node4\" class=\"node\">\n<title>3</title>\n<polygon fill=\"#52e891\" stroke=\"#000000\" points=\"258.5,-187 94.5,-187 94.5,-104 258.5,-104 258.5,-187\"/>\n<text text-anchor=\"middle\" x=\"176.5\" y=\"-171.8\" font-family=\"Times,serif\" font-size=\"14.00\" fill=\"#000000\">petal length (cm) &lt;= 4.95</text>\n<text text-anchor=\"middle\" x=\"176.5\" y=\"-156.8\" font-family=\"Times,serif\" font-size=\"14.00\" fill=\"#000000\">gini = 0.201</text>\n<text text-anchor=\"middle\" x=\"176.5\" y=\"-141.8\" font-family=\"Times,serif\" font-size=\"14.00\" fill=\"#000000\">samples = 44</text>\n<text text-anchor=\"middle\" x=\"176.5\" y=\"-126.8\" font-family=\"Times,serif\" font-size=\"14.00\" fill=\"#000000\">value = [0, 39, 5]</text>\n<text text-anchor=\"middle\" x=\"176.5\" y=\"-111.8\" font-family=\"Times,serif\" font-size=\"14.00\" fill=\"#000000\">class = versicolor</text>\n</g>\n<!-- 2&#45;&gt;3 -->\n<g id=\"edge3\" class=\"edge\">\n<title>2&#45;&gt;3</title>\n<path fill=\"none\" stroke=\"#000000\" d=\"M235.6726,-222.8796C228.8543,-213.9633 221.5844,-204.4565 214.5579,-195.268\"/>\n<polygon fill=\"#000000\" stroke=\"#000000\" points=\"217.318,-193.1156 208.4632,-187.2981 211.7575,-197.3678 217.318,-193.1156\"/>\n</g>\n<!-- 6 -->\n<g id=\"node7\" class=\"node\">\n<title>6</title>\n<polygon fill=\"#843ee6\" stroke=\"#000000\" points=\"440.5,-187 276.5,-187 276.5,-104 440.5,-104 440.5,-187\"/>\n<text text-anchor=\"middle\" x=\"358.5\" y=\"-171.8\" font-family=\"Times,serif\" font-size=\"14.00\" fill=\"#000000\">petal length (cm) &lt;= 4.85</text>\n<text text-anchor=\"middle\" x=\"358.5\" y=\"-156.8\" font-family=\"Times,serif\" font-size=\"14.00\" fill=\"#000000\">gini = 0.053</text>\n<text text-anchor=\"middle\" x=\"358.5\" y=\"-141.8\" font-family=\"Times,serif\" font-size=\"14.00\" fill=\"#000000\">samples = 37</text>\n<text text-anchor=\"middle\" x=\"358.5\" y=\"-126.8\" font-family=\"Times,serif\" font-size=\"14.00\" fill=\"#000000\">value = [0, 1, 36]</text>\n<text text-anchor=\"middle\" x=\"358.5\" y=\"-111.8\" font-family=\"Times,serif\" font-size=\"14.00\" fill=\"#000000\">class = virginica</text>\n</g>\n<!-- 2&#45;&gt;6 -->\n<g id=\"edge6\" class=\"edge\">\n<title>2&#45;&gt;6</title>\n<path fill=\"none\" stroke=\"#000000\" d=\"M299.3274,-222.8796C306.1457,-213.9633 313.4156,-204.4565 320.4421,-195.268\"/>\n<polygon fill=\"#000000\" stroke=\"#000000\" points=\"323.2425,-197.3678 326.5368,-187.2981 317.682,-193.1156 323.2425,-197.3678\"/>\n</g>\n<!-- 4 -->\n<g id=\"node5\" class=\"node\">\n<title>4</title>\n<polygon fill=\"#3ee684\" stroke=\"#000000\" points=\"117,-68 0,-68 0,0 117,0 117,-68\"/>\n<text text-anchor=\"middle\" x=\"58.5\" y=\"-52.8\" font-family=\"Times,serif\" font-size=\"14.00\" fill=\"#000000\">gini = 0.051</text>\n<text text-anchor=\"middle\" x=\"58.5\" y=\"-37.8\" font-family=\"Times,serif\" font-size=\"14.00\" fill=\"#000000\">samples = 38</text>\n<text text-anchor=\"middle\" x=\"58.5\" y=\"-22.8\" font-family=\"Times,serif\" font-size=\"14.00\" fill=\"#000000\">value = [0, 37, 1]</text>\n<text text-anchor=\"middle\" x=\"58.5\" y=\"-7.8\" font-family=\"Times,serif\" font-size=\"14.00\" fill=\"#000000\">class = versicolor</text>\n</g>\n<!-- 3&#45;&gt;4 -->\n<g id=\"edge4\" class=\"edge\">\n<title>3&#45;&gt;4</title>\n<path fill=\"none\" stroke=\"#000000\" d=\"M132.5612,-103.9815C122.6402,-94.607 112.1103,-84.6572 102.1992,-75.2921\"/>\n<polygon fill=\"#000000\" stroke=\"#000000\" points=\"104.4334,-72.5878 94.7611,-68.2637 99.6257,-77.6757 104.4334,-72.5878\"/>\n</g>\n<!-- 5 -->\n<g id=\"node6\" class=\"node\">\n<title>5</title>\n<polygon fill=\"#c09cf2\" stroke=\"#000000\" points=\"245.5,-68 135.5,-68 135.5,0 245.5,0 245.5,-68\"/>\n<text text-anchor=\"middle\" x=\"190.5\" y=\"-52.8\" font-family=\"Times,serif\" font-size=\"14.00\" fill=\"#000000\">gini = 0.444</text>\n<text text-anchor=\"middle\" x=\"190.5\" y=\"-37.8\" font-family=\"Times,serif\" font-size=\"14.00\" fill=\"#000000\">samples = 6</text>\n<text text-anchor=\"middle\" x=\"190.5\" y=\"-22.8\" font-family=\"Times,serif\" font-size=\"14.00\" fill=\"#000000\">value = [0, 2, 4]</text>\n<text text-anchor=\"middle\" x=\"190.5\" y=\"-7.8\" font-family=\"Times,serif\" font-size=\"14.00\" fill=\"#000000\">class = virginica</text>\n</g>\n<!-- 3&#45;&gt;5 -->\n<g id=\"edge5\" class=\"edge\">\n<title>3&#45;&gt;5</title>\n<path fill=\"none\" stroke=\"#000000\" d=\"M181.7131,-103.9815C182.7632,-95.618 183.8708,-86.7965 184.9325,-78.3409\"/>\n<polygon fill=\"#000000\" stroke=\"#000000\" points=\"188.4247,-78.6218 186.1978,-68.2637 181.4792,-77.7497 188.4247,-78.6218\"/>\n</g>\n<!-- 7 -->\n<g id=\"node8\" class=\"node\">\n<title>7</title>\n<polygon fill=\"#c09cf2\" stroke=\"#000000\" points=\"400.5,-68 290.5,-68 290.5,0 400.5,0 400.5,-68\"/>\n<text text-anchor=\"middle\" x=\"345.5\" y=\"-52.8\" font-family=\"Times,serif\" font-size=\"14.00\" fill=\"#000000\">gini = 0.444</text>\n<text text-anchor=\"middle\" x=\"345.5\" y=\"-37.8\" font-family=\"Times,serif\" font-size=\"14.00\" fill=\"#000000\">samples = 3</text>\n<text text-anchor=\"middle\" x=\"345.5\" y=\"-22.8\" font-family=\"Times,serif\" font-size=\"14.00\" fill=\"#000000\">value = [0, 1, 2]</text>\n<text text-anchor=\"middle\" x=\"345.5\" y=\"-7.8\" font-family=\"Times,serif\" font-size=\"14.00\" fill=\"#000000\">class = virginica</text>\n</g>\n<!-- 6&#45;&gt;7 -->\n<g id=\"edge7\" class=\"edge\">\n<title>6&#45;&gt;7</title>\n<path fill=\"none\" stroke=\"#000000\" d=\"M353.6593,-103.9815C352.6842,-95.618 351.6557,-86.7965 350.6698,-78.3409\"/>\n<polygon fill=\"#000000\" stroke=\"#000000\" points=\"354.1295,-77.791 349.4949,-68.2637 347.1766,-78.6017 354.1295,-77.791\"/>\n</g>\n<!-- 8 -->\n<g id=\"node9\" class=\"node\">\n<title>8</title>\n<polygon fill=\"#8139e5\" stroke=\"#000000\" points=\"536,-68 419,-68 419,0 536,0 536,-68\"/>\n<text text-anchor=\"middle\" x=\"477.5\" y=\"-52.8\" font-family=\"Times,serif\" font-size=\"14.00\" fill=\"#000000\">gini = 0.0</text>\n<text text-anchor=\"middle\" x=\"477.5\" y=\"-37.8\" font-family=\"Times,serif\" font-size=\"14.00\" fill=\"#000000\">samples = 34</text>\n<text text-anchor=\"middle\" x=\"477.5\" y=\"-22.8\" font-family=\"Times,serif\" font-size=\"14.00\" fill=\"#000000\">value = [0, 0, 34]</text>\n<text text-anchor=\"middle\" x=\"477.5\" y=\"-7.8\" font-family=\"Times,serif\" font-size=\"14.00\" fill=\"#000000\">class = virginica</text>\n</g>\n<!-- 6&#45;&gt;8 -->\n<g id=\"edge8\" class=\"edge\">\n<title>6&#45;&gt;8</title>\n<path fill=\"none\" stroke=\"#000000\" d=\"M402.8112,-103.9815C412.8163,-94.607 423.4354,-84.6572 433.4304,-75.2921\"/>\n<polygon fill=\"#000000\" stroke=\"#000000\" points=\"436.0274,-77.6551 440.9316,-68.2637 431.2412,-72.547 436.0274,-77.6551\"/>\n</g>\n</g>\n</svg>\n"
          },
          "metadata": {
            "tags": []
          },
          "execution_count": 13
        }
      ]
    },
    {
      "cell_type": "code",
      "metadata": {
        "colab": {
          "base_uri": "https://localhost:8080/"
        },
        "id": "HKhTkbQHIb38",
        "outputId": "f7a15b91-042e-4a75-85b3-61e2305bb2e7"
      },
      "source": [
        "print(accuracy_score(y_test, dt_clf_short.predict(X_test)))"
      ],
      "execution_count": null,
      "outputs": [
        {
          "output_type": "stream",
          "text": [
            "1.0\n"
          ],
          "name": "stdout"
        }
      ]
    },
    {
      "cell_type": "markdown",
      "metadata": {
        "id": "pgZ67RhcG8Bz"
      },
      "source": [
        "오버피팅을 절제시켜야 모델이 간결하고, 간결한 모델은 이상치에 강한 모델이다."
      ]
    },
    {
      "cell_type": "code",
      "metadata": {
        "colab": {
          "base_uri": "https://localhost:8080/",
          "height": 372
        },
        "id": "MX2VvdDMGpqI",
        "outputId": "b7d3cad8-cd20-447a-b105-6ff0db7e3e05"
      },
      "source": [
        "import seaborn as sns\n",
        "import numpy as np\n",
        "%matplotlib inline\n",
        "\n",
        "print(\"Feature Importance : {}\".format(np.round(dt_clf.feature_importances_, 3)))\n",
        "for name, value in zip(iris_data.feature_names, dt_clf.feature_importances_):\n",
        "    print('{} : {}'.format(name, value))\n",
        "\n",
        "sns.barplot(x = dt_clf.feature_importances_, y=iris_data.feature_names)"
      ],
      "execution_count": null,
      "outputs": [
        {
          "output_type": "stream",
          "text": [
            "Feature Importance : [0.    0.    0.599 0.401]\n",
            "sepal length (cm) : 0.0\n",
            "sepal width (cm) : 0.0\n",
            "petal length (cm) : 0.5990564195917215\n",
            "petal width (cm) : 0.40094358040827854\n"
          ],
          "name": "stdout"
        },
        {
          "output_type": "execute_result",
          "data": {
            "text/plain": [
              "<matplotlib.axes._subplots.AxesSubplot at 0x7fdff3a356d0>"
            ]
          },
          "metadata": {
            "tags": []
          },
          "execution_count": 23
        },
        {
          "output_type": "display_data",
          "data": {
            "image/png": "[encoded data removed]",
            "text/plain": [
              "<Figure size 432x288 with 1 Axes>"
            ]
          },
          "metadata": {
            "tags": [],
            "needs_background": "light"
          }
        }
      ]
    },
    {
      "cell_type": "markdown",
      "metadata": {
        "id": "qPJFDDy1KfYy"
      },
      "source": [
        "이렇듯 결정트리는 알고리즘 자체가 직관적이고 설명 가능해서 알고리즘과 관련된 시각적 요소를 표현할 수 있다."
      ]
    },
    {
      "cell_type": "markdown",
      "metadata": {
        "id": "oUJrSGKCKsH1"
      },
      "source": [
        "## 결정 트리의 과적합\n",
        "\n",
        "과적합 문제를 시각화하는 교재 내용."
      ]
    },
    {
      "cell_type": "code",
      "metadata": {
        "colab": {
          "base_uri": "https://localhost:8080/",
          "height": 299
        },
        "id": "h3riTViWKaZG",
        "outputId": "5b2bf67a-ad5b-4d28-91f9-52b2bccf5f85"
      },
      "source": [
        "from sklearn.datasets import make_classification # 분류를 위한 테스트용 데이터 생성하는 라이브러리\n",
        "import matplotlib.pyplot as plt\n",
        "\n",
        "plt.title(\"3 classe values with 2 Feature Sample Data creation\")\n",
        "\n",
        "X_features, y_labels = make_classification(n_features = 2, n_redundant = 0, n_informative = 2, n_classes = 3, n_clusters_per_class = 1, random_state = 0)\n",
        "\n",
        "plt.scatter(X_features[:, 0], X_features[:, 1], marker = 'o', c = y_labels, s = 25, edgecolor = 'k')\n"
      ],
      "execution_count": null,
      "outputs": [
        {
          "output_type": "execute_result",
          "data": {
            "text/plain": [
              "<matplotlib.collections.PathCollection at 0x7fdff3418f10>"
            ]
          },
          "metadata": {
            "tags": []
          },
          "execution_count": 25
        },
        {
          "output_type": "display_data",
          "data": {
            "image/png": "[encoded data removed]",
            "text/plain": [
              "<Figure size 432x288 with 1 Axes>"
            ]
          },
          "metadata": {
            "tags": [],
            "needs_background": "light"
          }
        }
      ]
    },
    {
      "cell_type": "markdown",
      "metadata": {
        "id": "-LFv5z60MTSR"
      },
      "source": [
        "## 앙상블 학습\n",
        "\n",
        "### 앙상블 학습의 개요\n",
        "- 여러개의 분류기를 생성하고 그 예측을 결합함. 집단지성 발휘하는 거임\n",
        "- 보팅, 배깅, 부스팅 세 가지로 나눌 수 있음.\n",
        "    - 보팅(Voting): 서로 다른 알고리즘을 같은 데이터세트에 대해 학습\n",
        "    - 배깅(Bagging): 같은 알고리즘의 모델을 서로 다른 데이터 샘플(by Bootstapping, 중복 허용)에 대해 학습\n",
        "    - 부스팅(Boosting): 여러 개 분류기가 순차적으로 학습을 진행하면서 다음에 학습할 분류기에게 가중치를 넘겨줌.\n",
        "    - 스태킹: 여러 가지 다른 모델의 예측 결괏값을 다시 학습 데이터로 만들어서 다른 모델로 재학습시킴.\n",
        "\n",
        "### 보팅\n",
        "- 하드 보팅: 분류기들이 각자 확률 제일 높게 나온 쪽으로 투표를 해서 표를 가장 많이 받은 결과를 뽑음\n",
        "- 소프트 보팅: 분류기들이 낸 확률을 평균내서 최종 결과 값으로 선정\n",
        "소프트 보팅이 더 많이 쓰임 "
      ]
    },
    {
      "cell_type": "code",
      "metadata": {
        "id": "KB9c0qMTOdBl"
      },
      "source": [
        "import pandas as pd\n",
        "from sklearn.ensemble import VotingClassifier\n",
        "from sklearn.linear_model import LogisticRegression\n",
        "from sklearn.neighbors import KNeighborsClassifier\n",
        "from sklearn.datasets import load_breast_cancer\n",
        "from sklearn.model_selection import train_test_split\n",
        "from sklearn.metrics import accuracy_score"
      ],
      "execution_count": null,
      "outputs": []
    },
    {
      "cell_type": "code",
      "metadata": {
        "id": "ncBdIDguOr20"
      },
      "source": [
        "cancer = load_breast_cancer()\n",
        "data_df = pd.DataFrame(cancer.data, columns = cancer.feature_names)"
      ],
      "execution_count": null,
      "outputs": []
    },
    {
      "cell_type": "code",
      "metadata": {
        "colab": {
          "base_uri": "https://localhost:8080/",
          "height": 218
        },
        "id": "LH33wijpPbuI",
        "outputId": "744bc23a-8284-44e5-b272-79b17b0006a2"
      },
      "source": [
        "data_df.head(4)"
      ],
      "execution_count": null,
      "outputs": [
        {
          "output_type": "execute_result",
          "data": {
            "text/html": [
              "<div>\n",
              "<style scoped>\n",
              "    .dataframe tbody tr th:only-of-type {\n",
              "        vertical-align: middle;\n",
              "    }\n",
              "\n",
              "    .dataframe tbody tr th {\n",
              "        vertical-align: top;\n",
              "    }\n",
              "\n",
              "    .dataframe thead th {\n",
              "        text-align: right;\n",
              "    }\n",
              "</style>\n",
              "<table border=\"1\" class=\"dataframe\">\n",
              "  <thead>\n",
              "    <tr style=\"text-align: right;\">\n",
              "      <th></th>\n",
              "      <th>mean radius</th>\n",
              "      <th>mean texture</th>\n",
              "      <th>mean perimeter</th>\n",
              "      <th>mean area</th>\n",
              "      <th>mean smoothness</th>\n",
              "      <th>mean compactness</th>\n",
              "      <th>mean concavity</th>\n",
              "      <th>mean concave points</th>\n",
              "      <th>mean symmetry</th>\n",
              "      <th>mean fractal dimension</th>\n",
              "      <th>radius error</th>\n",
              "      <th>texture error</th>\n",
              "      <th>perimeter error</th>\n",
              "      <th>area error</th>\n",
              "      <th>smoothness error</th>\n",
              "      <th>compactness error</th>\n",
              "      <th>concavity error</th>\n",
              "      <th>concave points error</th>\n",
              "      <th>symmetry error</th>\n",
              "      <th>fractal dimension error</th>\n",
              "      <th>worst radius</th>\n",
              "      <th>worst texture</th>\n",
              "      <th>worst perimeter</th>\n",
              "      <th>worst area</th>\n",
              "      <th>worst smoothness</th>\n",
              "      <th>worst compactness</th>\n",
              "      <th>worst concavity</th>\n",
              "      <th>worst concave points</th>\n",
              "      <th>worst symmetry</th>\n",
              "      <th>worst fractal dimension</th>\n",
              "    </tr>\n",
              "  </thead>\n",
              "  <tbody>\n",
              "    <tr>\n",
              "      <th>0</th>\n",
              "      <td>17.99</td>\n",
              "      <td>10.38</td>\n",
              "      <td>122.80</td>\n",
              "      <td>1001.0</td>\n",
              "      <td>0.11840</td>\n",
              "      <td>0.27760</td>\n",
              "      <td>0.3001</td>\n",
              "      <td>0.14710</td>\n",
              "      <td>0.2419</td>\n",
              "      <td>0.07871</td>\n",
              "      <td>1.0950</td>\n",
              "      <td>0.9053</td>\n",
              "      <td>8.589</td>\n",
              "      <td>153.40</td>\n",
              "      <td>0.006399</td>\n",
              "      <td>0.04904</td>\n",
              "      <td>0.05373</td>\n",
              "      <td>0.01587</td>\n",
              "      <td>0.03003</td>\n",
              "      <td>0.006193</td>\n",
              "      <td>25.38</td>\n",
              "      <td>17.33</td>\n",
              "      <td>184.60</td>\n",
              "      <td>2019.0</td>\n",
              "      <td>0.1622</td>\n",
              "      <td>0.6656</td>\n",
              "      <td>0.7119</td>\n",
              "      <td>0.2654</td>\n",
              "      <td>0.4601</td>\n",
              "      <td>0.11890</td>\n",
              "    </tr>\n",
              "    <tr>\n",
              "      <th>1</th>\n",
              "      <td>20.57</td>\n",
              "      <td>17.77</td>\n",
              "      <td>132.90</td>\n",
              "      <td>1326.0</td>\n",
              "      <td>0.08474</td>\n",
              "      <td>0.07864</td>\n",
              "      <td>0.0869</td>\n",
              "      <td>0.07017</td>\n",
              "      <td>0.1812</td>\n",
              "      <td>0.05667</td>\n",
              "      <td>0.5435</td>\n",
              "      <td>0.7339</td>\n",
              "      <td>3.398</td>\n",
              "      <td>74.08</td>\n",
              "      <td>0.005225</td>\n",
              "      <td>0.01308</td>\n",
              "      <td>0.01860</td>\n",
              "      <td>0.01340</td>\n",
              "      <td>0.01389</td>\n",
              "      <td>0.003532</td>\n",
              "      <td>24.99</td>\n",
              "      <td>23.41</td>\n",
              "      <td>158.80</td>\n",
              "      <td>1956.0</td>\n",
              "      <td>0.1238</td>\n",
              "      <td>0.1866</td>\n",
              "      <td>0.2416</td>\n",
              "      <td>0.1860</td>\n",
              "      <td>0.2750</td>\n",
              "      <td>0.08902</td>\n",
              "    </tr>\n",
              "    <tr>\n",
              "      <th>2</th>\n",
              "      <td>19.69</td>\n",
              "      <td>21.25</td>\n",
              "      <td>130.00</td>\n",
              "      <td>1203.0</td>\n",
              "      <td>0.10960</td>\n",
              "      <td>0.15990</td>\n",
              "      <td>0.1974</td>\n",
              "      <td>0.12790</td>\n",
              "      <td>0.2069</td>\n",
              "      <td>0.05999</td>\n",
              "      <td>0.7456</td>\n",
              "      <td>0.7869</td>\n",
              "      <td>4.585</td>\n",
              "      <td>94.03</td>\n",
              "      <td>0.006150</td>\n",
              "      <td>0.04006</td>\n",
              "      <td>0.03832</td>\n",
              "      <td>0.02058</td>\n",
              "      <td>0.02250</td>\n",
              "      <td>0.004571</td>\n",
              "      <td>23.57</td>\n",
              "      <td>25.53</td>\n",
              "      <td>152.50</td>\n",
              "      <td>1709.0</td>\n",
              "      <td>0.1444</td>\n",
              "      <td>0.4245</td>\n",
              "      <td>0.4504</td>\n",
              "      <td>0.2430</td>\n",
              "      <td>0.3613</td>\n",
              "      <td>0.08758</td>\n",
              "    </tr>\n",
              "    <tr>\n",
              "      <th>3</th>\n",
              "      <td>11.42</td>\n",
              "      <td>20.38</td>\n",
              "      <td>77.58</td>\n",
              "      <td>386.1</td>\n",
              "      <td>0.14250</td>\n",
              "      <td>0.28390</td>\n",
              "      <td>0.2414</td>\n",
              "      <td>0.10520</td>\n",
              "      <td>0.2597</td>\n",
              "      <td>0.09744</td>\n",
              "      <td>0.4956</td>\n",
              "      <td>1.1560</td>\n",
              "      <td>3.445</td>\n",
              "      <td>27.23</td>\n",
              "      <td>0.009110</td>\n",
              "      <td>0.07458</td>\n",
              "      <td>0.05661</td>\n",
              "      <td>0.01867</td>\n",
              "      <td>0.05963</td>\n",
              "      <td>0.009208</td>\n",
              "      <td>14.91</td>\n",
              "      <td>26.50</td>\n",
              "      <td>98.87</td>\n",
              "      <td>567.7</td>\n",
              "      <td>0.2098</td>\n",
              "      <td>0.8663</td>\n",
              "      <td>0.6869</td>\n",
              "      <td>0.2575</td>\n",
              "      <td>0.6638</td>\n",
              "      <td>0.17300</td>\n",
              "    </tr>\n",
              "  </tbody>\n",
              "</table>\n",
              "</div>"
            ],
            "text/plain": [
              "   mean radius  mean texture  ...  worst symmetry  worst fractal dimension\n",
              "0        17.99         10.38  ...          0.4601                  0.11890\n",
              "1        20.57         17.77  ...          0.2750                  0.08902\n",
              "2        19.69         21.25  ...          0.3613                  0.08758\n",
              "3        11.42         20.38  ...          0.6638                  0.17300\n",
              "\n",
              "[4 rows x 30 columns]"
            ]
          },
          "metadata": {
            "tags": []
          },
          "execution_count": 30
        }
      ]
    },
    {
      "cell_type": "code",
      "metadata": {
        "id": "jW4COkR9PgM3"
      },
      "source": [
        "# 분류기\n",
        "lr = LogisticRegression()\n",
        "knn = KNeighborsClassifier(n_neighbors=8)\n",
        "# 보팅 분류기 선언\n",
        "vo = VotingClassifier(estimators = [('LR', lr), ('KNN', knn)], voting = 'soft')\n",
        "# 데이터셋 나누기\n",
        "X_train, X_test, y_train, y_test = train_test_split(cancer.data, cancer.target, test_size =0.2, random_state = 329)"
      ],
      "execution_count": null,
      "outputs": []
    },
    {
      "cell_type": "code",
      "metadata": {
        "colab": {
          "base_uri": "https://localhost:8080/"
        },
        "id": "4VzfTeLtQL6i",
        "outputId": "202c3bd5-ce3c-4561-8570-2fa27cf5f911"
      },
      "source": [
        "vo.fit(X_train, y_train)\n",
        "pred = vo.predict(X_test)\n",
        "print(accuracy_score(y_test, pred))"
      ],
      "execution_count": null,
      "outputs": [
        {
          "output_type": "stream",
          "text": [
            "0.9385964912280702\n"
          ],
          "name": "stdout"
        }
      ]
    },
    {
      "cell_type": "code",
      "metadata": {
        "colab": {
          "base_uri": "https://localhost:8080/"
        },
        "id": "XclDbHW9Qb_Y",
        "outputId": "a1d29442-fb58-4dbc-eedd-b92166dce147"
      },
      "source": [
        "# 개별 모델의 평가\n",
        "lr.fit(X_train, y_train)\n",
        "lr_pred = lr.predict(X_test)\n",
        "print(accuracy_score(y_test, lr_pred))"
      ],
      "execution_count": null,
      "outputs": [
        {
          "output_type": "stream",
          "text": [
            "0.9473684210526315\n"
          ],
          "name": "stdout"
        }
      ]
    },
    {
      "cell_type": "code",
      "metadata": {
        "colab": {
          "base_uri": "https://localhost:8080/"
        },
        "id": "pKD7W5RXSoNg",
        "outputId": "1e7ddc88-7ce0-4823-abe2-883222aa78a2"
      },
      "source": [
        "knn.fit(X_train, y_train)\n",
        "knn_pred = knn.predict(X_test)\n",
        "print(accuracy_score(y_test, knn_pred))"
      ],
      "execution_count": null,
      "outputs": [
        {
          "output_type": "stream",
          "text": [
            "0.9210526315789473\n"
          ],
          "name": "stdout"
        }
      ]
    },
    {
      "cell_type": "markdown",
      "metadata": {
        "id": "3TP0mBQ8SYWi"
      },
      "source": [
        "암튼 voting 분류기가 아주 약간 더 정확도가 높게 나온다. 랜덤 시드 바꾸면서 계속 해봤는데 가끔 개별 분류기가 더 성능이 좋을 때도 있긴 함. 책에서도 무조건 성능 올라가는 건 아니라고 명시한다. 하지만 현실 세계의 예측 불가한 데이터를 상대로는 더 뛰어난 예측 성능을 가지는 경우가 많다고 함.\n",
        "\n",
        "그래서 ML 모델의 성능은 유연성 높은(다양한 데이터에 대처할 수 있는) 것이 중요한 평가 요소라고 함."
      ]
    },
    {
      "cell_type": "markdown",
      "metadata": {
        "id": "PUHQsN_aRIP2"
      },
      "source": [
        "\n",
        "그리고 좀 tmi인데\n",
        "```\n",
        "train_test_split(cancer.data, cancer.target, test_size =0.2)\n",
        "```\n",
        "라고 random_state을 안 넣어주니깐 모든 모델의 성능이 소수점 하나 안 틀리고 똑같이 나옴 ;\n",
        "\n",
        "몇몇 random_state의 값에 대해서는 각 분류기가 acc 값이 똑같이 나오기도 한다\n"
      ]
    },
    {
      "cell_type": "markdown",
      "metadata": {
        "id": "qCtyCZggTh-m"
      },
      "source": [
        "## 랜덤 포레스트\n",
        "- 배깅(Bagging) 기법의 일종이다.\n",
        "- **장점** : 빠른 수행속도, 다양한 영역에 대처 가능.\n",
        "- **단점** : 하이퍼파라미터가 너무 많고, 튜닝이 오래 걸린다. (트리 기반 앙상블 전체의 단점)\n",
        "- 결정 트리를 기반 알고리즘으로 갖는다. (부스팅 기반 알고리즘들도 대개 결정 트리를 기반으로 함)\n",
        "- 여러 개의 결정 트리를 서로 다른 데이터 샘플에 대해 학습시켜, 보팅을 통해 모든 분류기가 예측에 참여함\n",
        "\n",
        "### 부트스트래핑(Bootstraping)\n",
        "- 통계학 용어로, 여러 개의 작은 데이터 세트를 임의로 만들어 개별 평균의 분포도를 측정하는 샘플링 방식\n",
        "- 데이터를 중첩 시킨다.\n",
        "\n",
        "![부트스트래핑 구글 검색](https://tensorflowkorea.files.wordpress.com/2017/03/bootrap_concept.png?w=625)"
      ]
    },
    {
      "cell_type": "markdown",
      "metadata": {
        "id": "cd293cMPV5L-"
      },
      "source": [
        "### 랜덤 포레스트의 하이퍼파라미터\n",
        "[랜덤포레스트 분류기 sklearn 공식문서](https://scikit-learn.org/stable/modules/generated/sklearn.ensemble.RandomForestClassifier.html)\n",
        "- n_estimators: 랜덤 포레스트에서 결정 트리의 개수 지정 (기본: 10)\n",
        "- max_features: 각 결정트리에 사용되는 max\\_features. 기본값은 sqrt (여기선 auto)\n",
        "- max_depth: \n",
        "\n",
        "이쪽은 교재 실습 따라치기보다는 kaggle 하나 따라하고 싶다"
      ]
    },
    {
      "cell_type": "markdown",
      "metadata": {
        "id": "WYSrIzxLYuWW"
      },
      "source": [
        "모니터 보기 힘들당... GBM이랑 XGB, LightGBM은 다음에 이어서 하자.. ^^. "
      ]
    },
    {
      "cell_type": "code",
      "metadata": {
        "id": "efGDQfxhRbrz"
      },
      "source": [
        ""
      ],
      "execution_count": null,
      "outputs": []
    }
  ]
}